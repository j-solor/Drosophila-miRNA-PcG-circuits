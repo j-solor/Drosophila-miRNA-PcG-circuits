{
 "cells": [
  {
   "cell_type": "markdown",
   "metadata": {},
   "source": [
    "# Analysis of HCImiRTps and HCPREps"
   ]
  },
  {
   "cell_type": "markdown",
   "metadata": {
    "toc": true
   },
   "source": [
    "<h1>Table of Contents<span class=\"tocSkip\"></span></h1>\n",
    "<div class=\"toc\"><ul class=\"toc-item\"><li><span><a href=\"#HCImiRTps-enrichment-Analysis\" data-toc-modified-id=\"HCImiRTps-enrichment-Analysis-1\"><span class=\"toc-item-num\">1&nbsp;&nbsp;</span>HCImiRTps enrichment Analysis</a></span><ul class=\"toc-item\"><li><span><a href=\"#Data-Loading\" data-toc-modified-id=\"Data-Loading-1.1\"><span class=\"toc-item-num\">1.1&nbsp;&nbsp;</span>Data Loading</a></span></li><li><span><a href=\"#Preprocessing\" data-toc-modified-id=\"Preprocessing-1.2\"><span class=\"toc-item-num\">1.2&nbsp;&nbsp;</span>Preprocessing</a></span></li><li><span><a href=\"#Gene-set-construction\" data-toc-modified-id=\"Gene-set-construction-1.3\"><span class=\"toc-item-num\">1.3&nbsp;&nbsp;</span>Gene set construction</a></span></li><li><span><a href=\"#Over-Representation-Analysis-(ORA)\" data-toc-modified-id=\"Over-Representation-Analysis-(ORA)-1.4\"><span class=\"toc-item-num\">1.4&nbsp;&nbsp;</span>Over Representation Analysis (ORA)</a></span></li><li><span><a href=\"#Normality-Analysis-for-exploring-PAGE-(Parametric-Analysis-of-Gene-Set-Enrichment)-usage\" data-toc-modified-id=\"Normality-Analysis-for-exploring-PAGE-(Parametric-Analysis-of-Gene-Set-Enrichment)-usage-1.5\"><span class=\"toc-item-num\">1.5&nbsp;&nbsp;</span>Normality Analysis for exploring PAGE (Parametric Analysis of Gene Set Enrichment) usage</a></span></li><li><span><a href=\"#Multiple-hypothesis-correction\" data-toc-modified-id=\"Multiple-hypothesis-correction-1.6\"><span class=\"toc-item-num\">1.6&nbsp;&nbsp;</span>Multiple hypothesis correction</a></span></li></ul></li><li><span><a href=\"#HCPREps-distace-to-PRE-Analysis\" data-toc-modified-id=\"HCPREps-distace-to-PRE-Analysis-2\"><span class=\"toc-item-num\">2&nbsp;&nbsp;</span>HCPREps distace to PRE Analysis</a></span><ul class=\"toc-item\"><li><span><a href=\"#Data-loading\" data-toc-modified-id=\"Data-loading-2.1\"><span class=\"toc-item-num\">2.1&nbsp;&nbsp;</span>Data loading</a></span></li><li><span><a href=\"#Preprocessing\" data-toc-modified-id=\"Preprocessing-2.2\"><span class=\"toc-item-num\">2.2&nbsp;&nbsp;</span>Preprocessing</a></span></li><li><span><a href=\"#TSS-distance-to-the-closest-PRE-calculation\" data-toc-modified-id=\"TSS-distance-to-the-closest-PRE-calculation-2.3\"><span class=\"toc-item-num\">2.3&nbsp;&nbsp;</span>TSS distance to the closest PRE calculation</a></span></li></ul></li><li><span><a href=\"#Integration-of-mature-miRNA-PcG/trxG-enrichment-and-pre-miRNA-PRE-distance-for-the-unvailing-of-PcG/trxG-crosstalking-miRNAs\" data-toc-modified-id=\"Integration-of-mature-miRNA-PcG/trxG-enrichment-and-pre-miRNA-PRE-distance-for-the-unvailing-of-PcG/trxG-crosstalking-miRNAs-3\"><span class=\"toc-item-num\">3&nbsp;&nbsp;</span>Integration of mature miRNA PcG/trxG enrichment and pre-miRNA PRE distance for the unvailing of PcG/trxG crosstalking miRNAs</a></span><ul class=\"toc-item\"><li><span><a href=\"#Construction-of-mature-miRNA:hairpin-connection-table\" data-toc-modified-id=\"Construction-of-mature-miRNA:hairpin-connection-table-3.1\"><span class=\"toc-item-num\">3.1&nbsp;&nbsp;</span>Construction of mature miRNA:hairpin connection table</a></span></li><li><span><a href=\"#Integration\" data-toc-modified-id=\"Integration-3.2\"><span class=\"toc-item-num\">3.2&nbsp;&nbsp;</span>Integration</a></span></li><li><span><a href=\"#Analysis\" data-toc-modified-id=\"Analysis-3.3\"><span class=\"toc-item-num\">3.3&nbsp;&nbsp;</span>Analysis</a></span></li><li><span><a href=\"#Further-comparison-between-PcG-and-trxG-cross-talking-miRNAs\" data-toc-modified-id=\"Further-comparison-between-PcG-and-trxG-cross-talking-miRNAs-3.4\"><span class=\"toc-item-num\">3.4&nbsp;&nbsp;</span>Further comparison between PcG and trxG cross-talking miRNAs</a></span></li><li><span><a href=\"#Generation-of-Table-2-and-Supplementary-Table-1\" data-toc-modified-id=\"Generation-of-Table-2-and-Supplementary-Table-1-3.5\"><span class=\"toc-item-num\">3.5&nbsp;&nbsp;</span>Generation of Table 2 and Supplementary Table 1</a></span></li></ul></li></ul></div>"
   ]
  },
  {
   "cell_type": "code",
   "execution_count": 2,
   "metadata": {
    "ExecuteTime": {
     "end_time": "2020-06-25T15:25:17.358807Z",
     "start_time": "2020-06-25T15:25:17.350211Z"
    }
   },
   "outputs": [],
   "source": [
    "import numpy as np\n",
    "import pandas as pd\n",
    "pd.set_option('display.max_rows', 50)\n",
    "import math\n",
    "import matplotlib as mpl\n",
    "import matplotlib.pyplot as plt\n",
    "import matplotlib.lines as lines\n",
    "import matplotlib.colors.LinearSegmentedColormap as LinearSegmentedColormap\n",
    "from matplotlib_venn import venn3\n",
    "from matplotlib_venn import venn2\n",
    "import seaborn as sns\n",
    "import random\n",
    "from random import sample\n",
    "import gseapy\n",
    "import scipy.stats as stats\n",
    "import statsmodels.stats.multitest as multitest\n",
    "from adjustText import adjust_text"
   ]
  },
  {
   "cell_type": "code",
   "execution_count": 3,
   "metadata": {},
   "outputs": [
    {
     "ename": "NameError",
     "evalue": "name 'LinearSegmentedColormap' is not defined",
     "output_type": "error",
     "traceback": [
      "\u001b[0;31m---------------------------------------------------------------------------\u001b[0m",
      "\u001b[0;31mNameError\u001b[0m                                 Traceback (most recent call last)",
      "\u001b[0;32m<ipython-input-3-72f7b452894f>\u001b[0m in \u001b[0;36m<module>\u001b[0;34m\u001b[0m\n\u001b[1;32m      1\u001b[0m \u001b[0;31m# general plot setting\u001b[0m\u001b[0;34m\u001b[0m\u001b[0;34m\u001b[0m\u001b[0;34m\u001b[0m\u001b[0m\n\u001b[0;32m----> 2\u001b[0;31m \u001b[0mPcGcmp\u001b[0m \u001b[0;34m=\u001b[0m \u001b[0mLinearSegmentedColormap\u001b[0m\u001b[0;34m.\u001b[0m\u001b[0mfrom_list\u001b[0m\u001b[0;34m(\u001b[0m\u001b[0;34m\"\"\u001b[0m\u001b[0;34m,\u001b[0m \u001b[0;34m[\u001b[0m\u001b[0;34m\"white\"\u001b[0m\u001b[0;34m,\u001b[0m\u001b[0;34m\"red\"\u001b[0m\u001b[0;34m]\u001b[0m\u001b[0;34m)\u001b[0m\u001b[0;34m\u001b[0m\u001b[0;34m\u001b[0m\u001b[0m\n\u001b[0m\u001b[1;32m      3\u001b[0m \u001b[0mtrxGcmp\u001b[0m \u001b[0;34m=\u001b[0m \u001b[0mLinearSegmentedColormap\u001b[0m\u001b[0;34m.\u001b[0m\u001b[0mfrom_list\u001b[0m\u001b[0;34m(\u001b[0m\u001b[0;34m\"\"\u001b[0m\u001b[0;34m,\u001b[0m \u001b[0;34m[\u001b[0m\u001b[0;34m\"white\"\u001b[0m\u001b[0;34m,\u001b[0m\u001b[0;34m\"green\"\u001b[0m\u001b[0;34m]\u001b[0m\u001b[0;34m)\u001b[0m\u001b[0;34m\u001b[0m\u001b[0;34m\u001b[0m\u001b[0m\n",
      "\u001b[0;31mNameError\u001b[0m: name 'LinearSegmentedColormap' is not defined"
     ]
    }
   ],
   "source": [
    "# general plot setting\n",
    "PcGcmp = LinearSegmentedColormap.from_list(\"\", [\"white\",\"red\"])\n",
    "trxGcmp = LinearSegmentedColormap.from_list(\"\", [\"white\",\"green\"])"
   ]
  },
  {
   "cell_type": "markdown",
   "metadata": {},
   "source": [
    "## HCImiRTps enrichment Analysis"
   ]
  },
  {
   "cell_type": "markdown",
   "metadata": {},
   "source": [
    "### Data Loading"
   ]
  },
  {
   "cell_type": "code",
   "execution_count": null,
   "metadata": {
    "ExecuteTime": {
     "end_time": "2020-06-25T15:25:18.166659Z",
     "start_time": "2020-06-25T15:25:17.361722Z"
    }
   },
   "outputs": [],
   "source": [
    "HCImiRTps = pd.read_csv(\n",
    "    \"../HCImiRTps_generation/output_files/HCImiRTps.tsv\", sep = \"\\t\")\n",
    "\n",
    "# gene_sets\n",
    "curated_pcgtrxg = pd.read_csv(filepath_or_buffer = \n",
    "                      'input_files/PcGtrxG_clasification.csv', sep = \"\\t\")"
   ]
  },
  {
   "cell_type": "markdown",
   "metadata": {},
   "source": [
    "### Preprocessing"
   ]
  },
  {
   "cell_type": "code",
   "execution_count": null,
   "metadata": {
    "ExecuteTime": {
     "end_time": "2020-06-25T15:26:57.890789Z",
     "start_time": "2020-06-25T15:25:18.168811Z"
    }
   },
   "outputs": [],
   "source": [
    "def Build_CWCS_matrix(df):\n",
    "    \"\"\"\n",
    "    From HCImiRTps it builds a df containing\n",
    "    ensembl gene_ID as rows and mature miRNAs\n",
    "    as columns.\n",
    "    \n",
    "    In case there is a target, CWCS gets asigned to the miRNA:gene combination\n",
    "    If there isnt it gets assigned with a NaN\n",
    "    \"\"\"\n",
    "    # df construction\n",
    "    CWCS_matrix = pd.DataFrame(index = df['ensembl_gene_id'].drop_duplicates(), \n",
    "                              columns = df['miRNAs'].drop_duplicates())\n",
    "\n",
    "    total_miRs = df[\"miRNAs\"].drop_duplicates().shape[0]\n",
    "    \n",
    "    #filling loop\n",
    "    for miR in df[\"miRNAs\"].drop_duplicates():\n",
    "\n",
    "        entries = df.loc[df[\"miRNAs\"] == miR,:]\n",
    "        CWCS_matrix.loc[entries[\"ensembl_gene_id\"].values, miR] = entries[\"Cumulative weighted context++ score\"].values\n",
    "\n",
    "    #finish\n",
    "    return CWCS_matrix\n",
    "\n",
    "\n",
    "\n",
    "CWCS_matrix = Build_CWCS_matrix(HCImiRTps)"
   ]
  },
  {
   "cell_type": "markdown",
   "metadata": {},
   "source": [
    "### Gene set construction"
   ]
  },
  {
   "cell_type": "code",
   "execution_count": null,
   "metadata": {
    "ExecuteTime": {
     "end_time": "2020-06-25T15:26:57.929839Z",
     "start_time": "2020-06-25T15:26:57.893433Z"
    }
   },
   "outputs": [],
   "source": [
    "## PcG\n",
    "PcG_subset = curated_pcgtrxg.loc[curated_pcgtrxg[\"Group\"]==\"PcG\",:]\n",
    "PcG_subset = PcG_subset.loc[PcG_subset[\"emphasized as PcG/trxG in review\"]==1,:]\n",
    "PcG_subset = PcG_subset.loc[PcG_subset[\"USE ONLY IN POSTERIOR ANALYSIS\"]==0,:]\n",
    "\n",
    "## trxG\n",
    "trxG_subset = curated_pcgtrxg.loc[curated_pcgtrxg[\"Group\"]==\"trxG\",:]\n",
    "trxG_subset = trxG_subset.loc[((trxG_subset[\"flybase\"]==1)&(trxG_subset[\"review\"]==1))|(trxG_subset[\"emphasized as PcG/trxG in review\"]==1) ,:]\n",
    "trxG_subset = trxG_subset.loc[trxG_subset[\"USE ONLY IN POSTERIOR ANALYSIS\"]==0,:]\n",
    "\n",
    "## core-trxG\n",
    "trxGcore_subset = curated_pcgtrxg.loc[curated_pcgtrxg[\"Group\"]==\"trxG\",:]\n",
    "trxGcore_subset = trxGcore_subset.loc[trxGcore_subset[\"emphasized as PcG/trxG in review\"]==1,:]\n",
    "trxGcore_subset = trxGcore_subset.loc[trxGcore_subset[\"USE ONLY IN POSTERIOR ANALYSIS\"]==0,:]\n",
    "\n",
    "\n",
    "gene_sets = {\"PcG\": list(PcG_subset[PcG_subset[\"ID\"].isin(CWCS_matrix.index)][\"ID\"].drop_duplicates()),\n",
    "                 \"trxG\": list(trxG_subset[trxG_subset[\"ID\"].isin(CWCS_matrix.index)][\"ID\"].drop_duplicates()),\n",
    "                 \"trxG_core\": list(trxGcore_subset[trxGcore_subset[\"ID\"].isin(CWCS_matrix.index)][\"ID\"].drop_duplicates())}\n",
    "    "
   ]
  },
  {
   "cell_type": "markdown",
   "metadata": {
    "ExecuteTime": {
     "end_time": "2020-06-20T18:04:42.248095Z",
     "start_time": "2020-06-20T18:04:42.233663Z"
    }
   },
   "source": [
    "### Over Representation Analysis (ORA)"
   ]
  },
  {
   "cell_type": "code",
   "execution_count": null,
   "metadata": {
    "ExecuteTime": {
     "end_time": "2020-06-25T15:26:57.954255Z",
     "start_time": "2020-06-25T15:26:57.932644Z"
    }
   },
   "outputs": [],
   "source": [
    "# Analysis\n",
    "## function definition\n",
    "def Fisher_exact_preparation(miR_series, gene_set):\n",
    "    \"\"\"\n",
    "    Prepares a series of one miRNA and M genes to the performance of the one-tailed Fisher exact test\n",
    "    by scipy.stats.hypergeom.sf()\n",
    "    parameters:\n",
    "    - miR_series        pd Series object of one miRNA out of CWCS_matrix. \n",
    "                        all genes of CWCS_matrix as index. contains NAs\n",
    "                        \n",
    "    - gene_set          group of genes you are evaluating for enrichment.\n",
    "                        only contains genes also present in CWCS_matrix\n",
    "                        \n",
    "    returns:\n",
    "    - M         A contingency table for the fisher exact test\n",
    "  \n",
    "    order adapted so output can be directly introduced into scipy function\n",
    "    \"\"\"\n",
    "    \n",
    "    M = miR_series.shape[0] # nº of total genes\n",
    "    n = len(gene_set) # gene set size\n",
    "    N = miR_series.dropna().shape[0] # nº of genes regulated by the miRNA\n",
    "    X = sum(miR_series.dropna().index.isin(gene_set)) #nº of gene set genes regulated by the miRNA\n",
    "    \n",
    "    cont_table = np.array([[X, (n - X)],\n",
    "                           [N - X, M + X - (N + n)]])\n",
    "    return cont_table \n",
    "\n",
    "def Analyzer(CWCS_matrix, PcG_set, trxG_set, trxG_core_set):\n",
    "    \"\"\"\n",
    "    Analyzes the CWCS_matrix with the provided gene sets\n",
    "    by performing for each miRNA and gene set a hypergeometric\n",
    "    distribution analysis (only if at least one gene set gene is\n",
    "    predicted to be regulated).\n",
    "    \n",
    "    In the past it also performed GSEA but as the use of GSEA \n",
    "    was discarded it only returns the nº of gene set genes among the regulation,\n",
    "    the hypergeometric enrichment pvalue and\n",
    "    \"\"\"\n",
    "    \n",
    "    ## creation of the result dfs\n",
    "    PcG_results = pd.DataFrame(index = CWCS_matrix.columns,\n",
    "                               columns = [\"n_geneset\", \"hyper_pval\",\n",
    "                                          \"hyper_FDR\", \"OR\",\n",
    "                                          \"NES\", \"ES\"])\n",
    "\n",
    "    trxG_results = pd.DataFrame(index = CWCS_matrix.columns,\n",
    "                                columns = [\"n_geneset\", \"hyper_pval\",\n",
    "                                           \"hyper_FDR\", \"OR\",\n",
    "                                           \"NES\", \"ES\"])\n",
    "    \n",
    "    trxG_strict_results = pd.DataFrame(index = CWCS_matrix.columns,\n",
    "                                columns = [\"n_geneset\", \"hyper_pval\",\n",
    "                                           \"hyper_FDR\", \"OR\",\n",
    "                                           \"NES\", \"ES\"])\n",
    "    ## analysis loop\n",
    "    for column in CWCS_matrix.columns:\n",
    "        miRNA = CWCS_matrix[column]\n",
    "        \n",
    "        # hypergeometric distribution \n",
    "        ## PcG\n",
    "        ctable_PcG = Fisher_exact_preparation(miRNA, PcG_set)\n",
    "        PcG_results.loc[column, \"n_geneset\"] = ctable_PcG[0,0]\n",
    "        if ctable_PcG[0,0] > 0:\n",
    "            fisher_PcG = stats.fisher_exact(ctable_PcG, \"greater\")\n",
    "            PcG_results.loc[column, [\"OR\", \"hyper_pval\"]] = fisher_PcG\n",
    "            \n",
    "            \n",
    "        ## trxG\n",
    "        ctable_trxG = Fisher_exact_preparation(miRNA, trxG_set)\n",
    "        trxG_results.loc[column, \"n_geneset\"] = ctable_trxG[0,0]\n",
    "        if ctable_trxG[0,0] > 0:\n",
    "            fisher_trxG = stats.fisher_exact(ctable_trxG, \"greater\")\n",
    "            trxG_results.loc[column, [\"OR\", \"hyper_pval\"]] = fisher_trxG\n",
    "\n",
    "        ## strict_trxG\n",
    "        ctable_trxG_strict = Fisher_exact_preparation(miRNA, trxG_core_set)\n",
    "        trxG_strict_results.loc[column, \"n_geneset\"] = ctable_trxG_strict[0,0]\n",
    "        if ctable_trxG_strict[0,0] > 0:\n",
    "            fisher_trxG_strict = stats.fisher_exact(ctable_trxG_strict, \"greater\")\n",
    "            trxG_strict_results.loc[column, [\"OR\", \"hyper_pval\"]] = fisher_trxG_strict\n",
    "\n",
    "    return (PcG_results[[\"n_geneset\", \"hyper_pval\", \"OR\"]],\n",
    "            trxG_results[[\"n_geneset\", \"hyper_pval\", \"OR\"]],\n",
    "            trxG_strict_results[[\"n_geneset\", \"hyper_pval\", \"OR\"]]) "
   ]
  },
  {
   "cell_type": "code",
   "execution_count": null,
   "metadata": {
    "ExecuteTime": {
     "end_time": "2020-06-25T15:27:04.997244Z",
     "start_time": "2020-06-25T15:26:57.959816Z"
    }
   },
   "outputs": [],
   "source": [
    "## funcion aplication\n",
    "PcG_enrch, trxG_enrch, trxG_core_enrch = Analyzer(CWCS_matrix=CWCS_matrix,\n",
    "                                                  PcG_set=gene_sets[\"PcG\"],\n",
    "                                                  trxG_set=gene_sets[\"trxG\"],\n",
    "                                                  trxG_core_set= gene_sets[\"trxG_core\"])"
   ]
  },
  {
   "cell_type": "markdown",
   "metadata": {},
   "source": [
    "#### Number of miRNAs tested for each group\n",
    "only miRNAs with at least one target in the specific group were tested"
   ]
  },
  {
   "cell_type": "code",
   "execution_count": null,
   "metadata": {
    "ExecuteTime": {
     "end_time": "2020-06-25T15:27:06.178388Z",
     "start_time": "2020-06-25T15:27:04.999454Z"
    }
   },
   "outputs": [],
   "source": [
    "mpl.rcParams['font.family'] = 'Avenir'\n",
    "\n",
    "subset_PcG_tested = set(PcG_enrch[PcG_enrch[\"n_geneset\"] > 0].index)\n",
    "subset_trxG_tested = set(trxG_enrch[trxG_enrch[\"n_geneset\"] > 0].index)\n",
    "\n",
    "venn2([subset_PcG_tested, subset_trxG_tested], (\"PcG\", \"trxG\"))\n",
    "plt.title(\"Tested miRs\", fontweight=\"bold\")\n",
    "plt.savefig(\"plots/tested_miRs.png\", dpi = 500)\n",
    "plt.show()"
   ]
  },
  {
   "cell_type": "code",
   "execution_count": null,
   "metadata": {
    "ExecuteTime": {
     "end_time": "2020-06-25T15:27:09.557091Z",
     "start_time": "2020-06-25T15:27:09.545341Z"
    }
   },
   "outputs": [],
   "source": [
    "# Save in the final files\n",
    "## Raw, for integration with PREs\n",
    "trxG_enrch.to_csv(\"output_files/HCImiRTps_results/trxG_miRNAs.tsv\", sep=\"\\t\")\n",
    "trxG_core_enrch.to_csv(\"output_files/HCImiRTps_results/trxG_core_miRNAs.tsv\", sep=\"\\t\")\n",
    "PcG_enrch.to_csv(\"output_files/HCImiRTps_results/PcG_miRNAs.tsv\", sep=\"\\t\")"
   ]
  },
  {
   "cell_type": "markdown",
   "metadata": {
    "tags": []
   },
   "source": [
    "### Multiple hypothesis correction\n",
    "Performed by the R script \"output_files/HCImiRTps_results/FDR_study.R\" and results saved in the FDR/ directory in the same path"
   ]
  },
  {
   "cell_type": "code",
   "execution_count": null,
   "metadata": {
    "ExecuteTime": {
     "end_time": "2020-06-25T15:31:23.814724Z",
     "start_time": "2020-06-25T15:31:23.786449Z"
    }
   },
   "outputs": [],
   "source": [
    "PcG_FDR = pd.read_csv(\"output_files/HCImiRTps_results/FDR/PcG_FDR_results.tsv\", sep = \"\\t\").sort_values(by = \"rFDRc_q\")\n",
    "sns.scatterplot(data=PcG_FDR, x=\"hyper_pval\", y=\"rFDRc_q\")\n",
    "plt.xscale(\"log\")\n",
    "plt.xlabel(\"p-value\")\n",
    "plt.ylabel(\"rFDR\")\n",
    "plt.title(\"PcG\")\n",
    "plt.axhline(0.1, color =\"r\")\n",
    "plt.show()"
   ]
  },
  {
   "cell_type": "code",
   "execution_count": null,
   "metadata": {
    "ExecuteTime": {
     "end_time": "2020-06-25T15:31:23.840746Z",
     "start_time": "2020-06-25T15:31:23.817634Z"
    }
   },
   "outputs": [],
   "source": [
    "trxG_FDR = pd.read_csv( \"output_files/HCImiRTps_results/FDR/trxG_FDR_results.tsv\", sep = \"\\t\").sort_values(by = \"rFDRc_q\")\n",
    "sns.scatterplot(data=trxG_FDR, x=\"hyper_pval\", y=\"rFDRc_q\")\n",
    "plt.xscale(\"log\")\n",
    "plt.xlabel(\"p-value\")\n",
    "plt.ylabel(\"rFDR\")\n",
    "plt.title(\"trxG\")\n",
    "plt.axhline(0.22, color =\"r\")\n",
    "plt.show()"
   ]
  },
  {
   "cell_type": "code",
   "execution_count": null,
   "metadata": {
    "ExecuteTime": {
     "end_time": "2020-06-25T15:31:23.938292Z",
     "start_time": "2020-06-25T15:31:23.843260Z"
    }
   },
   "outputs": [],
   "source": [
    "trxG_core_FDR = pd.read_csv( \"output_files/HCImiRTps_results/FDR/trxG_core_FDR_results.tsv\", sep = \"\\t\").sort_values(by = \"rFDRc_q\")\n",
    "\n",
    "sns.scatterplot(data=trxG_core_FDR, x=\"hyper_pval\", y=\"rFDRc_q\")\n",
    "plt.xscale(\"log\")\n",
    "plt.xlabel(\"p-value\")\n",
    "plt.ylabel(\"rFDR\")\n",
    "plt.title(\"trxG-core\")\n",
    "plt.show()"
   ]
  },
  {
   "cell_type": "markdown",
   "metadata": {},
   "source": [
    "After analysis we define a threshold of 10%FDR for PcG enrichment and 22% for trxG enrichment that coincides in a nominal p-value < 0.01"
   ]
  },
  {
   "cell_type": "code",
   "execution_count": null,
   "metadata": {
    "ExecuteTime": {
     "end_time": "2020-06-25T15:27:09.543048Z",
     "start_time": "2020-06-25T15:27:06.181107Z"
    }
   },
   "outputs": [],
   "source": [
    "def plot_loghist(x, bins):\n",
    "    \"\"\"\n",
    "    from https://stackoverflow.com/questions/47850202/\n",
    "    plotting-a-histogram-on-a-log-scale-with-matplotlib?rq=1\n",
    "    \"\"\"\n",
    "    hist, bins = np.histogram(x, bins=bins)\n",
    "    logbins = np.logspace(np.log10(bins[0]),np.log10(bins[-1]),len(bins))\n",
    "    plt.hist(x, bins=logbins, color= \"grey\", edgecolor= \"grey\")\n",
    "    plt.xscale('log')\n",
    "\n",
    "\n",
    "# PcG\n",
    "mpl.rcParams['font.family'] = 'Avenir'\n",
    "fig = plt.figure(figsize=(8, 3))\n",
    "plt.title(\"PcG enrichment\", fontweight = \"bold\")\n",
    "plot_loghist(PcG_FDR[\"hyper_pval\"], bins=50)\n",
    "plt.axvline(x = 0.01, color = \"r\", label = \"FDR 10%\")\n",
    "plt.xlim(10**(-5),1)\n",
    "#plt.xscale(\"log\")\n",
    "\n",
    "plt.legend(loc = \"upper left\")\n",
    "plt.xlabel(\"p-value\")\n",
    "plt.ylabel(\"nº of miRNAs\")\n",
    "sns.despine()\n",
    "plt.tight_layout()\n",
    "plt.savefig(\"plots/PcG_enrichmentplot.png\", dpi = 500, transparent = True)\n",
    "plt.show()\n",
    "\n",
    "# trxG\n",
    "mpl.rcParams['font.family'] = 'Avenir'\n",
    "fig = plt.figure(figsize=(8, 3))\n",
    "plt.title(\"trxG enrichment\", fontweight = \"bold\")\n",
    "plot_loghist(trxG_FDR[\"hyper_pval\"], bins=50)\n",
    "plt.axvline(x = 0.01, color = \"r\", label = \"FDR 22%\")\n",
    "plt.axvline(x = 0.001, color = \"r\",linestyle=\":\", label = \"FDR 10%\")\n",
    "\n",
    "plt.xlim(10**(-5),1)\n",
    "#plt.xscale(\"log\")\n",
    "\n",
    "plt.legend(loc = \"upper left\")\n",
    "plt.xlabel(\"p-value\")\n",
    "plt.ylabel(\"nº of miRNAs\")\n",
    "sns.despine()\n",
    "plt.tight_layout()\n",
    "plt.savefig(\"plots/trxG_enrichmentplot.png\", dpi = 500, transparent = True)\n",
    "plt.show()\n",
    "\n",
    "\n"
   ]
  },
  {
   "cell_type": "markdown",
   "metadata": {},
   "source": [
    "# Figure 1"
   ]
  },
  {
   "cell_type": "code",
   "execution_count": null,
   "metadata": {},
   "outputs": [],
   "source": [
    "# Prepare data\n",
    "## joint datasets\n",
    "merged_enrch = pd.merge(PcG_enrch, trxG_enrch, on = \"miRNAs\", suffixes = (\"_PcG\", \"_trxG\"))\n",
    "merged_enrch.sort_values([\"OR_PcG\", \"OR_trxG\"],ascending = [False, True],inplace = True)\n",
    "merged_enrch[\"OR_trxG\"] = - merged_enrch[\"OR_trxG\"] # to get trxG´s OR to the left\n",
    "\n",
    "## Transform non analyzed Pvalues into 1, and OR into 0 for color scales\n",
    "values = {\"hyper_pval_PcG\": 0.999,\n",
    "          \"hyper_pval_trxG\": 0.999,\n",
    "          \"OR_PcG\": 0,\n",
    "          \"OR_trxG\": 0} \n",
    "merged_enrch.fillna(values, inplace=True)\n",
    "\n",
    "## generate dataframe only with significantly enriched miRNAs\n",
    "subset = ((merged_enrch[\"hyper_pval_PcG\"] < 0.01) | (merged_enrch[\"hyper_pval_trxG\"] < 0.01))\n",
    "merged_enrch_subset = merged_enrch[subset]"
   ]
  },
  {
   "cell_type": "code",
   "execution_count": null,
   "metadata": {},
   "outputs": [],
   "source": [
    "# Functions\n",
    "## Create sequencial custom color scale\n",
    "def colors_from_cmap(values, cmap, logscale = True, color_range = None):\n",
    "    values = np.log10(values) if logscale else values\n",
    "    values = np.abs(values)\n",
    "    \n",
    "    # get range of colorbars so we can normalize\n",
    "    if color_range is None:\n",
    "        max_height = values.max()  \n",
    "        min_height = values.min()\n",
    "\n",
    "    else:\n",
    "        min_height, max_height = np.abs(color_range)\n",
    "    \n",
    "    # scale each z to [0,1], and get their rgb values\n",
    "    rgb = [cmap((k-min_height)/max_height) for k in values] \n",
    "    return rgb\n",
    "\n",
    "from matplotlib.colors import ListedColormap, LinearSegmentedColormap"
   ]
  },
  {
   "cell_type": "markdown",
   "metadata": {
    "tags": []
   },
   "source": [
    "## Plot including miRNas significantly enriched in PcG/trxG"
   ]
  },
  {
   "cell_type": "code",
   "execution_count": 44,
   "metadata": {},
   "outputs": [
    {
     "data": {
      "image/png": "[encoded data removed]",
      "text/plain": [
       "<Figure size 504x576 with 3 Axes>"
      ]
     },
     "metadata": {},
     "output_type": "display_data"
    }
   ],
   "source": [
    "# Initialize the figure\n",
    "sns.set_theme(style=\"whitegrid\")\n",
    "mpl.rcParams['font.family'] = 'Avenir'\n",
    "f, ax = plt.subplots(figsize=(7, 8))\n",
    "pval_interval = np.array([-0.01, -5,])\n",
    "\n",
    "# Plot the PcG ORs of miRNAs significatively enriched in PcG or trxG\n",
    "## get sequencial color scale for log PcG pvalues \n",
    "rgb_PcG = colors_from_cmap(values=merged_enrch_subset[\"hyper_pval_PcG\"],\n",
    "                           cmap=PcGcmp,\n",
    "                           logscale=True,\n",
    "                           color_range=pval_interval)\n",
    "\n",
    "## plot\n",
    "ax = sns.barplot(x=\"OR_PcG\", y=merged_enrch_subset.index, data=merged_enrch_subset,\n",
    "            label=\"Total\", palette=rgb_PcG,edgecolor='none')\n",
    "\n",
    "\n",
    "# add trxG ORs of those miRNAs\n",
    "## get sequentil color scale for trxG pvalues\n",
    "rgb_trxG = colors_from_cmap(values=merged_enrch_subset[\"hyper_pval_trxG\"],\n",
    "                            cmap=trxGcmp,\n",
    "                            logscale = True,\n",
    "                            color_range= pval_interval)\n",
    "\n",
    "## plot\n",
    "sns.barplot(x=\"OR_trxG\",\n",
    "            y=merged_enrch_subset.index,\n",
    "            data=merged_enrch_subset,\n",
    "            label=\"Total\",\n",
    "            palette=rgb_trxG,\n",
    "            edgecolor='none')\n",
    "\n",
    "# Add colorbars\n",
    "## prepare colors\n",
    "norm = plt.Normalize(pval_interval[0], pval_interval[1])\n",
    "PcGcb = plt.cm.ScalarMappable(cmap=PcGcmp.reversed(), norm=norm)\n",
    "PcGcb.set_array([])\n",
    "\n",
    "trxGcb = plt.cm.ScalarMappable(cmap=trxGcmp.reversed(), norm=norm)\n",
    "trxGcb.set_array([])\n",
    "\n",
    "## plot\n",
    "cbar_PcG = ax.figure.colorbar(PcGcb,ticks = [-1, -2, -3, -4, -5], pad = -0.07, label = \"p-value\", extend = \"max\") #pad controls barplot closeness\n",
    "cbar_trxG = ax.figure.colorbar(trxGcb, ticks = [-1, -2, -3, -4, -5], pad = 0, extend = \"max\" )\n",
    "\n",
    "## format\n",
    "tick_text = list(\"$10^{%i}$\" %(x) for x in cbar_PcG.get_ticks()) \n",
    "cbar_PcG.set_ticklabels(tick_text)\n",
    "cbar_trxG.set_ticks([])\n",
    "cbar_PcG.ax.set_title(\"PcG\")\n",
    "cbar_trxG.ax.set_title(\"trxG\")\n",
    "\n",
    "# Aesthetics\n",
    "ax.set_xticks(range(-8,9)) # <--- set the ticks first\n",
    "ax.set_xticklabels([abs(ele) for ele in range(-8,9)])\n",
    "plt.xlabel(\"Odds Ratio\")\n",
    "plt.tight_layout()\n",
    "\n",
    "plt.savefig(\"plots/bestPcG_OR.png\", dpi = 500, transparent = True)"
   ]
  },
  {
   "cell_type": "markdown",
   "metadata": {},
   "source": [
    "## Plot including all miRNAs"
   ]
  },
  {
   "cell_type": "code",
   "execution_count": 1,
   "metadata": {},
   "outputs": [
    {
     "ename": "NameError",
     "evalue": "name 'sns' is not defined",
     "output_type": "error",
     "traceback": [
      "\u001b[0;31m---------------------------------------------------------------------------\u001b[0m",
      "\u001b[0;31mNameError\u001b[0m                                 Traceback (most recent call last)",
      "\u001b[0;32m<ipython-input-1-32c085f33d03>\u001b[0m in \u001b[0;36m<module>\u001b[0;34m\u001b[0m\n\u001b[1;32m      1\u001b[0m \u001b[0;31m# Initialize the matplotlib figure\u001b[0m\u001b[0;34m\u001b[0m\u001b[0;34m\u001b[0m\u001b[0;34m\u001b[0m\u001b[0m\n\u001b[0;32m----> 2\u001b[0;31m \u001b[0msns\u001b[0m\u001b[0;34m.\u001b[0m\u001b[0mset_theme\u001b[0m\u001b[0;34m(\u001b[0m\u001b[0mstyle\u001b[0m\u001b[0;34m=\u001b[0m\u001b[0;34m\"whitegrid\"\u001b[0m\u001b[0;34m)\u001b[0m\u001b[0;34m\u001b[0m\u001b[0;34m\u001b[0m\u001b[0m\n\u001b[0m\u001b[1;32m      3\u001b[0m \u001b[0mf\u001b[0m\u001b[0;34m,\u001b[0m \u001b[0max\u001b[0m \u001b[0;34m=\u001b[0m \u001b[0mplt\u001b[0m\u001b[0;34m.\u001b[0m\u001b[0msubplots\u001b[0m\u001b[0;34m(\u001b[0m\u001b[0mfigsize\u001b[0m\u001b[0;34m=\u001b[0m\u001b[0;34m(\u001b[0m\u001b[0;36m6\u001b[0m\u001b[0;34m,\u001b[0m \u001b[0;36m15\u001b[0m\u001b[0;34m)\u001b[0m\u001b[0;34m)\u001b[0m\u001b[0;34m\u001b[0m\u001b[0;34m\u001b[0m\u001b[0m\n\u001b[1;32m      4\u001b[0m \u001b[0;34m\u001b[0m\u001b[0m\n\u001b[1;32m      5\u001b[0m \u001b[0;31m# Plot the PcG ORs of miRNAs significatively enriched in PcG or trxG\u001b[0m\u001b[0;34m\u001b[0m\u001b[0;34m\u001b[0m\u001b[0;34m\u001b[0m\u001b[0m\n",
      "\u001b[0;31mNameError\u001b[0m: name 'sns' is not defined"
     ]
    }
   ],
   "source": [
    "# Initialize the matplotlib figure\n",
    "sns.set_theme(style=\"whitegrid\")\n",
    "f, ax = plt.subplots(figsize=(6, 15))\n",
    "\n",
    "# Plot the PcG ORs of miRNAs significatively enriched in PcG or trxG\n",
    "## get sequencial color scale for log PcG pvalues \n",
    "rgb_PcG = colors_from_cmap(values=merged_enrch[\"hyper_pval_PcG\"],\n",
    "                           cmap=PcGcmp,\n",
    "                           logscale=True,\n",
    "                           color_range=pval_interval)\n",
    "\n",
    "## plot\n",
    "ax = sns.barplot(x=\"OR_PcG\", y=merged_enrch.index, data=merged_enrch,\n",
    "            label=\"Total\", palette=rgb_PcG,edgecolor='none')\n",
    "\n",
    "\n",
    "# add trxG ORs of those miRNAs\n",
    "## get sequentil color scale for trxG pvalues\n",
    "rgb_trxG = colors_from_cmap(values=merged_enrch[\"hyper_pval_trxG\"],\n",
    "                            cmap=trxGcmp,\n",
    "                            logscale = True,\n",
    "                            color_range= pval_interval)\n",
    "\n",
    "## plot\n",
    "sns.barplot(x=\"OR_trxG\",\n",
    "            y=merged_enrch.index,\n",
    "            data=merged_enrch,\n",
    "            label=\"Total\",\n",
    "            palette=rgb_trxG,\n",
    "            edgecolor='none')\n",
    "\n",
    "# Add colorbars\n",
    "## prepare colors\n",
    "norm = plt.Normalize(pval_interval[0], pval_interval[1])\n",
    "PcGcb = plt.cm.ScalarMappable(cmap=PcGcmp.reversed(), norm=norm)\n",
    "PcGcb.set_array([])\n",
    "\n",
    "trxGcb = plt.cm.ScalarMappable(cmap=trxGcmp.reversed(), norm=norm)\n",
    "trxGcb.set_array([])\n",
    "\n",
    "## plot\n",
    "cbar_PcG = ax.figure.colorbar(PcGcb,ticks = [-1, -2, -3, -4, -5], pad = -0.07, label = \"p-value\", extend = \"max\") #pad controls barplot closeness\n",
    "cbar_trxG = ax.figure.colorbar(trxGcb, ticks = [-1, -2, -3, -4, -5], pad = 0, extend = \"max\" )\n",
    "\n",
    "## format\n",
    "tick_text = list(\"$10^{%i}$\" %(x) for x in cbar_PcG.get_ticks()) \n",
    "cbar_PcG.set_ticklabels(tick_text)\n",
    "cbar_trxG.set_ticks([])\n",
    "cbar_PcG.ax.set_title(\"PcG\")\n",
    "cbar_trxG.ax.set_title(\"trxG\")\n",
    "\n",
    "# Aesthetics\n",
    "ax.set_xticks(range(-8,9)) # <--- set the ticks first\n",
    "ax.set_xticklabels([abs(ele) for ele in range(-8,9)])\n",
    "ax.axes.get_yaxis().set_visible(False)\n",
    "plt.xlabel(\"trxG vs PcG\\nOR\")\n",
    "\n",
    "## Add a legend and informative axis label\n",
    "plt.title(\"miRNAs One tailed Fisher ORs\")\n",
    "plt.show()"
   ]
  },
  {
   "cell_type": "markdown",
   "metadata": {},
   "source": [
    "## HCPREps distace to PRE Analysis"
   ]
  },
  {
   "cell_type": "markdown",
   "metadata": {},
   "source": [
    "### Data loading"
   ]
  },
  {
   "cell_type": "code",
   "execution_count": null,
   "metadata": {
    "ExecuteTime": {
     "end_time": "2020-06-25T15:31:24.056632Z",
     "start_time": "2020-06-25T15:31:23.967264Z"
    }
   },
   "outputs": [],
   "source": [
    "HCPREps = pd.read_csv(\n",
    "    \"../HCPREps_generation/output_files/HCPREps.gff\", sep = \"\\t\")\n",
    "\n",
    "# miRNA genomic coordinates(hairpin and mature)\n",
    "raw_miRs = pd.read_csv(\n",
    "    \"input_files/dme_miRBase.gff3\",\n",
    "    index_col=False, header=None,\n",
    "    sep = \"\\t\",skiprows=13)\n",
    "\n",
    "raw_miRs.columns = [\"chr\", \"noth0\", \"type\", \"start\", \"stop\", \n",
    "                    \"noth1\", \"strand\", \"noth2\", \"info\"]"
   ]
  },
  {
   "cell_type": "markdown",
   "metadata": {},
   "source": [
    "### Preprocessing"
   ]
  },
  {
   "cell_type": "code",
   "execution_count": null,
   "metadata": {
    "ExecuteTime": {
     "end_time": "2020-06-25T15:31:24.097470Z",
     "start_time": "2020-06-25T15:31:24.063065Z"
    }
   },
   "outputs": [],
   "source": [
    "# remove empty columns\n",
    "raw_miRs.drop(columns = [\"noth0\", \"noth1\", \"noth2\"], \n",
    "              errors=\"ignore\", inplace=True)  \n",
    "\n",
    "# adaptation of chr column\n",
    "raw_miRs[\"chr\"] = raw_miRs[\"chr\"].apply(lambda x: x.strip(\"chr\"))\n",
    "\n",
    "# Filter\n",
    "raw_miRs = raw_miRs.loc[raw_miRs[\"chr\"].isin(HCPREps[\"chr\"].drop_duplicates())] #miRNAs located in other scaffolds\n",
    "hairpins = raw_miRs.loc[raw_miRs[\"type\"]== \"miRNA_primary_transcript\",\n",
    "                      [\"chr\", \"start\", \"stop\", \"strand\", \"info\"]].copy()          #only keep miRNA hairpins"
   ]
  },
  {
   "cell_type": "markdown",
   "metadata": {},
   "source": [
    "### TSS distance to the closest PRE calculation"
   ]
  },
  {
   "cell_type": "code",
   "execution_count": null,
   "metadata": {
    "ExecuteTime": {
     "end_time": "2020-06-25T15:31:25.917072Z",
     "start_time": "2020-06-25T15:31:24.101364Z"
    },
    "tags": []
   },
   "outputs": [],
   "source": [
    "# Function definition\n",
    "def Distance_TSS(gene, PRE):\n",
    "    \"\"\"\n",
    "    calculate the TSS distance to a given interval\n",
    "    TSS determined acording to strand, if hairpin falls in \"+\"\n",
    "    \"start\" is the TSS, if hairpin falls in \"-\" \"stop\" is.\n",
    "    \n",
    "    - PRE     HCPREps prediction with coordinates [\"start\", \"stop\",...]\n",
    "    - gene    the miRNA hairpin you whant to know the distance. \n",
    "                first fields have to be \"start\" and \"stop\"\n",
    "    \n",
    "    \"\"\"\n",
    "    gene_TSS = gene[0] if gene[2] == \"+\" else gene[1]\n",
    "    if PRE[0]<= gene_TSS <= PRE[1]:\n",
    "        return int(0)\n",
    "    \n",
    "    elif PRE[0] > gene_TSS:\n",
    "        return int(PRE[0]-gene_TSS)\n",
    "    \n",
    "    elif gene_TSS > PRE[1]:\n",
    "        return int(gene_TSS-PRE[1])\n",
    "    \n",
    "    \n",
    "    \n",
    "def ClosestPRE(miRNAs, PREs):\n",
    "    \"\"\"\n",
    "    Function that index each miRNA hairpin  two the 2 closest PREs,\n",
    "    and afterwards calculates the distance to each acording to its TSS using Distance_TSS(), \n",
    "    selecting the closest one as the miRNA closest PRE.\n",
    "    \n",
    "    - miRNAs: Dataframe containing the hairpin miRNA name and genomic location\n",
    "    - PREs: HCPREps dataframe\n",
    "    \"\"\"\n",
    "    # Sorting needed for the \n",
    "    miRNAs.sort_values(by=[\"chr\", \"start\"], inplace=True)\n",
    "    PREs.sort_values(by=[\"chr\", \"start\"], inplace=True)\n",
    "    # chromosome scaffold iteration\n",
    "    for ch in PREs[\"chr\"].drop_duplicates():\n",
    "        PREs_subset = PREs.loc[PREs[\"chr\"] == ch, [\"start\", \"stop\", \"score_kf19\"]]\n",
    "        miRNAs_subset = miRNAs.loc[miRNAs[\"chr\"] == ch, [\"start\", \"stop\", \"strand\"]]\n",
    "        \n",
    "        # selection of closest PREs by checking the position of miRNAs inside PRE ordered df\n",
    "        positions = PREs_subset[\"start\"].searchsorted(miRNAs_subset[\"start\"])\n",
    "        \n",
    "        # loop selecting the closest among the 2 closest PREs\n",
    "        i=0\n",
    "        for ind in miRNAs_subset.index:\n",
    "            miR = miRNAs_subset.loc[ind,:]\n",
    "\n",
    "            if positions[i] == 0:\n",
    "                ## If assigned position is 0 the only PRE is the closest\n",
    "                pos = positions[i]\n",
    "                d = Distance_TSS(miR, PREs_subset.iloc[pos])\n",
    "                \n",
    "            elif positions[i] == PREs_subset.shape[0]:\n",
    "                pos = positions[i]-1\n",
    "                d = Distance_TSS(miR, PREs_subset.iloc[pos])\n",
    "                \n",
    "                \n",
    "            else:\n",
    "                ### distance calculation\n",
    "                pos_1 = positions[i]-1\n",
    "                pos_2 = positions[i]\n",
    "                d1 = Distance_TSS(miR, PREs_subset.iloc[pos_1])\n",
    "                d2 = Distance_TSS(miR, PREs_subset.iloc[pos_2])\n",
    "\n",
    "                ## Election of the closest\n",
    "                argmin = np.argmin((d1,d2))\n",
    "                d = [d1,d2][argmin]\n",
    "                pos = [pos_1, pos_2][argmin]\n",
    "\n",
    "\n",
    "            ## saving of information\n",
    "            pre_coords = PREs_subset.iloc[[pos]][[\"start\", \"stop\"]].astype(\"str\").agg(\"..\".join, axis = 1).values\n",
    "            miRNAs.loc[ind,\"PRE\"] = ch+\":\"+pre_coords\n",
    "            miRNAs.loc[ind,\"score_kf19\"] = PREs_subset.iloc[pos][\"score_kf19\"]\n",
    "            miRNAs.loc[ind,\"distance\"] = d\n",
    "            i+=1\n",
    "        \n",
    "    return miRNAs\n",
    "\n",
    "\n",
    "# Application\n",
    "miRNA_PREs = ClosestPRE(hairpins, HCPREps)\n",
    "\n",
    "# Post processing\n",
    "miRNA_PREs[[\"ID\", \"Alias\", \"Name\"]] = miRNA_PREs[\"info\"].str.split(\";\",expand=True)\n",
    "miRNA_PREs.drop(columns= [\"Alias\", \"info\"], inplace = True, errors=\"ignore\")\n",
    "miRNA_PREs[\"ID\"] = miRNA_PREs[\"ID\"].apply(lambda x: x.strip(\"ID=\"))\n",
    "miRNA_PREs[\"Name\"] = miRNA_PREs[\"Name\"].apply(lambda x: x.strip(\"Name=\"))\n",
    "miRNA_PREs.sort_values(by= [\"distance\"])\n",
    "miRNA_PREs.set_index(\"Name\", inplace = True)\n",
    "\n",
    "# Export\n",
    "miRNA_PREs.to_csv(\"output_files/HCPREps_results/miRNA_closest_PREs.tsv\", sep = \"\\t\")"
   ]
  },
  {
   "cell_type": "markdown",
   "metadata": {},
   "source": [
    "# Figure 2"
   ]
  },
  {
   "cell_type": "code",
   "execution_count": null,
   "metadata": {
    "ExecuteTime": {
     "end_time": "2020-06-25T15:31:30.049737Z",
     "start_time": "2020-06-25T15:31:25.919880Z"
    }
   },
   "outputs": [],
   "source": [
    "# Plots\n",
    "## Histogram\n",
    "### Function\n",
    "def plot_loghist(x, bins):\n",
    "    \"\"\"\n",
    "    Adapted from https://stackoverflow.com/questions/47850202/\n",
    "    plotting-a-histogram-on-a-log-scale-with-matplotlib?rq=1\n",
    "    \"\"\"\n",
    "    hist, bins = np.histogram(x, bins=bins)\n",
    "    logbins = np.logspace(np.log10(bins[0]),np.log10(bins[-1]),len(bins))\n",
    "    plt.hist(x, bins=logbins, color= \"grey\", edgecolor= \"grey\")\n",
    "    plt.xscale('symlog')\n",
    "\n",
    "\n",
    "#### Plot perse    \n",
    "mpl.rcParams['font.family'] = 'Avenir'\n",
    "mpl.rcParams['font.size'] = 12\n",
    "\n",
    "fig1, ax1 = plt.subplots(figsize=(8, 3))\n",
    "plt.title(\"miRNA-PRE Distance\", fontweight = \"bold\")\n",
    "\n",
    "\n",
    "plot_loghist(miRNA_PREs.loc[miRNA_PREs[\"distance\"]>0, \"distance\"].dropna()+1,\n",
    "             bins=50)\n",
    "\n",
    "plt.hist(miRNA_PREs.loc[miRNA_PREs[\"distance\"]==0, \"distance\"].dropna(),\n",
    "             bins=5, color= \"grey\")\n",
    "\n",
    "ax1.axvline(x = 5000, color = \"r\", label = \"5kb\")\n",
    "\n",
    "plt.xlim(-0.1,max(miRNA_PREs[\"distance\"]))\n",
    "\n",
    "\n",
    "plt.legend(loc = \"upper right\")\n",
    "plt.xlabel(\"distance to a PRE\")\n",
    "plt.ylabel(\"nº of miRNAs\")\n",
    "sns.despine()\n",
    "plt.tight_layout()\n",
    "plt.savefig(\"plots/miRNA_dist_hist.png\", dpi = 500, transparent = True)\n",
    "plt.show()\n",
    "\n",
    "\n",
    "## Pie chart\n",
    "\n",
    "### calculatipnss\n",
    "zero = sum(miRNA_PREs[\"distance\"] == 0)\n",
    "lt5kb = sum(miRNA_PREs[\"distance\"] <= 5000) - zero\n",
    "mt5kb = sum(miRNA_PREs[\"distance\"] > 5000)\n",
    "\n",
    "## Plot perse\n",
    "mpl.rcParams['font.size'] = 18\n",
    "labels = 'overlaping', '(non overlapping)\\nless than 5kb', '(non overlapping)\\nmore than 5kb'\n",
    "sizes = [zero, lt5kb, mt5kb]\n",
    "explode = (0, 0, 0)  \n",
    "cmap = plt.get_cmap(\"tab20\")\n",
    "colors = cmap(np.array([6,7,15]))\n",
    "\n",
    "fig1, ax1 = plt.subplots()\n",
    "ax1.set_title(\"miRNA-PRE Distance\", fontweight = \"bold\")\n",
    "ax1.pie(sizes, explode=explode, labels= None, autopct='%1.1f%%',\n",
    "        shadow=False, startangle=90, colors = colors)\n",
    "ax1.axis('equal')  # Equal aspect ratio ensures that pie is drawn as a circle.\n",
    "plt.savefig(\"plots/miRNA_dist_pie.png\", dpi = 500, transparent = True)\n",
    "\n",
    "plt.show()"
   ]
  },
  {
   "cell_type": "markdown",
   "metadata": {
    "ExecuteTime": {
     "end_time": "2020-06-22T10:57:45.741562Z",
     "start_time": "2020-06-22T10:57:45.738170Z"
    }
   },
   "source": [
    "## Integration of mature miRNA PcG/trxG enrichment and pre-miRNA PRE distance for the unvailing of PcG/trxG crosstalking miRNAs\n"
   ]
  },
  {
   "cell_type": "markdown",
   "metadata": {},
   "source": [
    "### Construction of mature miRNA:hairpin connection table\n"
   ]
  },
  {
   "cell_type": "code",
   "execution_count": null,
   "metadata": {
    "ExecuteTime": {
     "end_time": "2020-06-25T15:31:31.574748Z",
     "start_time": "2020-06-25T15:31:30.065505Z"
    }
   },
   "outputs": [],
   "source": [
    "hair_mat_connection = pd.DataFrame(columns = [\"hairpin\", \"h_name\", \"mature\", \"m_name\"])\n",
    "\n",
    "with open(\"input_files/miRNA.dat\") as infile:\n",
    "    dme = False\n",
    "    i = 0\n",
    "    for line in infile:\n",
    "        \n",
    "        # condicional para ver si es de dmel\n",
    "        ## Si no es dmel atajo para no procesar nada \n",
    "        if dme == False:\n",
    "            \n",
    "            ### primera linea de cada entrada nos dice organismo. si es dmel cambiamos el switch\n",
    "            if line[0:9] == \"ID   dme-\":\n",
    "                dme = True \n",
    "                h_name = line.split(\"   \")[1] # y guardamos el nombre pal futuro\n",
    "                continue\n",
    "                \n",
    "            ### si no es dmel siguiente linea\n",
    "            else:\n",
    "                dme = False\n",
    "                continue\n",
    "                \n",
    "        ## si es de dmel dme = True y ahora revisamos las siguientes lineas por los nombres maduros\n",
    "        else:\n",
    "            code = line[0:2]\n",
    "            if code == \"AC\":\n",
    "                hairpin = line[5:-2] # guardamos el accession number como hairpin\n",
    "            \n",
    "            ### revisamos que empiece por FT\n",
    "            if code == \"FT\":\n",
    "                #### Si es asi revisamos que sea la linea del nombre maduro, y si lo es creamos una entrada en el df fina\n",
    "                    \n",
    "                if line[21:32] == \"/accession=\":\n",
    "                    mature = line[33:-2]\n",
    "                if line[21:30] == \"/product=\":\n",
    "                    m_name = line[31:-2]\n",
    "                    hair_mat_connection.loc[i,[\"hairpin\",\"h_name\", \"mature\", \"m_name\"]] = hairpin,h_name, mature, m_name\n",
    "                    i+=1\n",
    "                #### si no lo fuese revisamos la siguiente linea    \n",
    "                else:\n",
    "                    continue\n",
    "            \n",
    "            ## si empieza en su lugar por // significa que se pasa a la siguiente entrada, asique dme = False\n",
    "            elif code == \"//\":\n",
    "                dme = False\n",
    "                continue\n",
    "                \n",
    "            \n",
    "            \n",
    "hairpin_mature = hair_mat_connection            "
   ]
  },
  {
   "cell_type": "markdown",
   "metadata": {},
   "source": [
    "### Integration"
   ]
  },
  {
   "cell_type": "code",
   "execution_count": null,
   "metadata": {
    "ExecuteTime": {
     "end_time": "2020-06-25T15:31:31.637444Z",
     "start_time": "2020-06-25T15:31:31.577778Z"
    }
   },
   "outputs": [],
   "source": [
    "# Addition of hairpin ID to PcG/trxG/core_trxG mature miRNA enrichment results\n",
    "integrated_PcG = PcG_enrch.join(hairpin_mature.set_index([\"m_name\"]))\n",
    "integrated_trxG = trxG_enrch.join(hairpin_mature.set_index([\"m_name\"]))\n",
    "integrated_trxG_core = trxG_core_enrch.join(hairpin_mature.set_index([\"m_name\"]))\n",
    "\n",
    "# Manual addition of miR 210 3p mature miRNAs (dme-miR-210-3p.1 and .2)\n",
    "harp_210_3p = hairpin_mature.loc[hairpin_mature[\"m_name\"]== \"dme-miR-210-3p\", [\"hairpin\", \"mature\", \"h_name\"]]\n",
    "\n",
    "integrated_PcG.loc[\"dme-miR-210-3p.1\", [\"hairpin\", \"mature\", \"h_name\"]] = harp_210_3p.values.flatten()\n",
    "integrated_PcG.loc[\"dme-miR-210-3p.2\", [\"hairpin\", \"mature\", \"h_name\"]] = harp_210_3p.values.flatten()\n",
    "\n",
    "integrated_trxG.loc[\"dme-miR-210-3p.1\", [\"hairpin\", \"mature\",  \"h_name\"]] = harp_210_3p.values.flatten()\n",
    "integrated_trxG.loc[\"dme-miR-210-3p.2\", [\"hairpin\", \"mature\",  \"h_name\"]] = harp_210_3p.values.flatten()\n",
    "\n",
    "integrated_trxG_core.loc[\"dme-miR-210-3p.1\", [\"hairpin\", \"mature\",  \"h_name\"]] = harp_210_3p.values.flatten()\n",
    "integrated_trxG_core.loc[\"dme-miR-210-3p.2\", [\"hairpin\", \"mature\",  \"h_name\"]] = harp_210_3p.values.flatten()\n",
    "\n",
    "# Junction of PRE distance results\n",
    "integrated_PcG = integrated_PcG.join(miRNA_PREs.set_index([\"ID\"]), on= \"hairpin\")\n",
    "integrated_trxG = integrated_trxG.join(miRNA_PREs.set_index([\"ID\"]), on= \"hairpin\")\n",
    "integrated_trxG_core = integrated_trxG_core.join(miRNA_PREs.set_index([\"ID\"]), on= \"hairpin\")"
   ]
  },
  {
   "cell_type": "code",
   "execution_count": null,
   "metadata": {
    "ExecuteTime": {
     "end_time": "2020-06-25T15:31:31.688848Z",
     "start_time": "2020-06-25T15:31:31.640645Z"
    }
   },
   "outputs": [],
   "source": [
    "# problematic miRNAs\n",
    "#print(np.all(integrated_PcG.index==integrated_trxG_core.index)) # same index for all integrated_PcG, trxG core_trxG\n",
    "p_mat = integrated_PcG[~integrated_PcG.index.isin(hairpin_mature[\"m_name\"])].index\n",
    "p_hair = hairpin_mature[~hairpin_mature[\"m_name\"].isin(integrated_PcG.index)][\"h_name\"].values\n",
    "\n",
    "print('\\033[95m'+ \"problematic mature miRNAs\" + '\\033[0m')\n",
    "display(p_mat)\n",
    "print('\\n\\n \\033[95m'+ \"problematic miRNAs hairpins\" + '\\033[0m')\n",
    "display(p_hair)"
   ]
  },
  {
   "cell_type": "markdown",
   "metadata": {},
   "source": [
    "### Analysis"
   ]
  },
  {
   "cell_type": "code",
   "execution_count": null,
   "metadata": {
    "ExecuteTime": {
     "end_time": "2020-06-25T15:31:36.317348Z",
     "start_time": "2020-06-25T15:31:31.697953Z"
    }
   },
   "outputs": [],
   "source": [
    "import matplotlib.pyplot as plt\n",
    "import matplotlib as mpl\n",
    "# calculations\n",
    "integrated_enriched_PcG = integrated_PcG[integrated_PcG[\"hyper_pval\"] < 0.01]\n",
    "integrated_enriched_trxG = integrated_trxG[integrated_trxG[\"hyper_pval\"] < 0.01]\n",
    "\n",
    "\n",
    "# plot settings\n",
    "sns.set_style(\"ticks\")\n",
    "mpl.rcParams['font.family'] = 'Avenir'\n",
    "\n",
    "## Ajustar fontsizes\n",
    "SMALL_SIZE = 10\n",
    "MEDIUM_SIZE = 12\n",
    "BIGGER_SIZE = 15\n",
    "\n",
    "plt.rc('font', size=10)          # controls default text sizes\n",
    "plt.rc('axes', titlesize=MEDIUM_SIZE)     # fontsize of the axes title\n",
    "plt.rc('axes', labelsize=MEDIUM_SIZE)    # fontsize of the x and y labels\n",
    "plt.rc('xtick', labelsize=SMALL_SIZE)    # fontsize of the tick labels\n",
    "plt.rc('ytick', labelsize=SMALL_SIZE)    # fontsize of the tick labels\n",
    "plt.rc('legend', fontsize=SMALL_SIZE)    # legend fontsize\n",
    "plt.rc('figure', titlesize=BIGGER_SIZE)  # fontsize of the figure title\n",
    "    \n",
    "\n",
    "#plot perse\n",
    "fig1 = plt.figure(constrained_layout=True, figsize=(6, 6))\n",
    "gs1 = fig1.add_gridspec(nrows=9, ncols=2, left=0.05, right=0.48, wspace=0.05)\n",
    "\n",
    "## PcG \n",
    "f1_ax1 = fig1.add_subplot(gs1[0:4, :])\n",
    "sns.scatterplot(x = integrated_enriched_PcG.loc[integrated_enriched_PcG[\"distance\"] > 5000, \"distance\"],\n",
    "            y = integrated_enriched_PcG.loc[integrated_enriched_PcG[\"distance\"] > 5000,\"hyper_pval\"],\n",
    "            color = \"grey\", alpha = 0.3, ax = f1_ax1, label = \"miRNAs over 5kb\")\n",
    "\n",
    "sns.scatterplot(x = integrated_enriched_PcG.loc[integrated_enriched_PcG[\"distance\"] <= 5000, \"distance\"],\n",
    "            y = integrated_enriched_PcG.loc[integrated_enriched_PcG[\"distance\"] <= 5000,\"hyper_pval\"],\n",
    "            color = \"black\", alpha = 1, ax = f1_ax1, label = \"miRNAs under 5kb\")\n",
    "\n",
    "## trxG\n",
    "f1_ax2 = fig1.add_subplot(gs1[4:8, :])\n",
    "sns.scatterplot(x = integrated_enriched_trxG.loc[integrated_enriched_trxG[\"distance\"] > 5000,\"distance\"],\n",
    "            y = integrated_enriched_trxG.loc[integrated_enriched_trxG[\"distance\"] > 5000,\"hyper_pval\"],\n",
    "            color = \"grey\", alpha = 0.3, ax = f1_ax2, label = \"miRNAs over 5kb\")\n",
    "\n",
    "sns.scatterplot(x = integrated_enriched_trxG.loc[integrated_enriched_trxG[\"distance\"] <= 5000,\"distance\"],\n",
    "            y = integrated_enriched_trxG.loc[integrated_enriched_trxG[\"distance\"] <= 5000,\"hyper_pval\"],\n",
    "            color = \"black\", alpha = 1, ax = f1_ax2, label = \"miRNAs under 5kb\")\n",
    "\n",
    "\n",
    "#ax1.set_title(\"PcG microRNAs\", fontweight = \"bold\")\n",
    "#ax2.set_title(\"trxG microRNAs\", fontweight = \"bold\")\n",
    "\n",
    "f1_ax1.set_ylim(10**(-5), 0.013)\n",
    "f1_ax2.set_ylim(10**(-5), 0.013)\n",
    "\n",
    "\n",
    "f1_ax1.set_xlim(-0.2,f1_ax1.get_xlim()[1]*1.3)\n",
    "f1_ax2.set_xlim(-0.2,f1_ax1.get_xlim()[1]*1.3)\n",
    "\n",
    "f1_ax1.set_yscale('log')\n",
    "f1_ax2.set_yscale('log')\n",
    "\n",
    "\n",
    "f1_ax1.set_xscale('symlog')\n",
    "f1_ax2.set_xscale('symlog')\n",
    "\n",
    "\n",
    "f1_ax1.axvline(x = 5000, color = \"r\", label = \"5kb\")\n",
    "f1_ax2.axvline(x = 5000, color = \"r\", label = \"5kb\")\n",
    "\n",
    "\n",
    "f1_ax1.set_xlabel(\"\")\n",
    "f1_ax2.set_xlabel(\" Distance to closest PRE\")\n",
    "\n",
    "f1_ax1.set_ylabel(\"PcG enrichment p-value\")\n",
    "f1_ax2.set_ylabel(\"trxG enrichment p-value\")\n",
    "\n",
    "handles, labels = f1_ax1.get_legend_handles_labels()\n",
    "f1_ax1.legend_.remove()\n",
    "f1_ax2.legend_.remove()\n",
    "fig1.legend(handles, labels, loc = \"lower center\", ncol=3)\n",
    "\n",
    "\n",
    "sns.despine()\n",
    "plt.savefig(\"plots/enrichedmiRNA_distance.png\", dpi = 500, transparent = True)\n",
    "plt.show()"
   ]
  },
  {
   "cell_type": "code",
   "execution_count": null,
   "metadata": {
    "ExecuteTime": {
     "end_time": "2020-06-25T15:31:36.357149Z",
     "start_time": "2020-06-25T15:31:36.321066Z"
    }
   },
   "outputs": [],
   "source": [
    "# tables\n",
    "circuits_PcG = integrated_enriched_PcG.loc[integrated_enriched_PcG[\"distance\"] <= 5000,\n",
    "                                         [\"n_geneset\", \"OR\", \"hyper_pval\", \"distance\"]]\n",
    "\n",
    "circuits_trxG = integrated_enriched_trxG.loc[integrated_enriched_trxG[\"distance\"] <= 5000,\n",
    "                                         [\"n_geneset\",  \"OR\", \"hyper_pval\", \"distance\"]]\n",
    "# column renaming\n",
    "circuits_PcG.columns = [\"nº of PcG \\ntarget proteins\",\n",
    "                           \"PcG enrichment \\nOR\", \"PcG enrichment \\np-value\", \"TSS distance to \\nclosest PRE\"]\n",
    "\n",
    "circuits_trxG.columns = [\"nº of trxG \\ntarget proteins\",\n",
    "                           \"trxG enrichment \\nOR\", \"trxG enrichment \\np-value\", \"TSS distance to \\nclosest PRE\"]\n",
    "\n",
    "# export to cxv\n",
    "circuits_PcG.to_csv(\"plots/circuits_PcG.tsv\", sep= \"\\t\")\n",
    "circuits_trxG.to_csv(\"plots/circuits_trxG.tsv\", sep= \"\\t\")\n",
    "\n",
    "display(circuits_PcG)\n",
    "display(circuits_trxG)"
   ]
  },
  {
   "cell_type": "markdown",
   "metadata": {},
   "source": [
    "### Further comparison between PcG and trxG cross-talking miRNAs\n",
    "A first step substituting the \"NaN\" enrichment p-value of non tested miRNAs (for not having any gene set gene as target) to 1 is needed for the generation of the plots of this part."
   ]
  },
  {
   "cell_type": "code",
   "execution_count": null,
   "metadata": {
    "ExecuteTime": {
     "end_time": "2020-06-25T15:31:36.369900Z",
     "start_time": "2020-06-25T15:31:36.361227Z"
    }
   },
   "outputs": [],
   "source": [
    "# Dataframe preparation\n",
    "values = {\"hyper_pval\": 1} \n",
    "plots_PcG = integrated_PcG.fillna(values)\n",
    "plots_trxG = integrated_trxG.fillna(values) "
   ]
  },
  {
   "cell_type": "markdown",
   "metadata": {},
   "source": [
    "#### **Figure 3**: miRNAs involved in Polycomb, trithorax and shared regulatory circuits\n",
    "with the limits of the criteria decided to be considered as involved in regulatory circuits in red.\n",
    "Colored by the regulatory circuit with:\n",
    "- PcG as red\n",
    "- trxG as green\n",
    "- shared as blue"
   ]
  },
  {
   "cell_type": "code",
   "execution_count": null,
   "metadata": {
    "ExecuteTime": {
     "end_time": "2020-06-25T15:32:17.032559Z",
     "start_time": "2020-06-25T15:31:36.375186Z"
    }
   },
   "outputs": [],
   "source": [
    "# Plotting function definition\n",
    "def Plot_names(data, ax):\n",
    "    texts = []\n",
    "    for line in range(0,data.shape[0]):\n",
    "        texts.append(ax.text(data.distance[line]+0.01,\n",
    "                 data.hyper_pval[line],\n",
    "                 data.index[line], horizontalalignment='left',\n",
    "                 size='medium', color='black', alpha=0.5, fontweight= \"normal\"))\n",
    "    \n",
    "    adjust_text(texts, ax=ax, autoalign=\"xy\",precision=0.001,\n",
    "                expand_text=(1.01, 1.05), expand_points=(1.01, 1.05),\n",
    "                force_text=(0.03, 0.35), force_points=(0.01, 0.3),\n",
    "                arrowprops=dict(arrowstyle=\"-\", color='black', lw=0.2))\n",
    "\n",
    "def Plot_significative(PcG, trxG, dist_th = 5000, pval_th = 0.01, log_scale = False):\n",
    "\n",
    "    # Data preparation\n",
    "    trxG = trxG.copy()    \n",
    "    PcG = PcG.copy()\n",
    "    \n",
    "    sign_PcG = PcG.loc[(PcG[\"distance\"]<dist_th) &\n",
    "                       (PcG[\"hyper_pval\"]<pval_th)]\n",
    "    \n",
    "    sign_trxG = trxG.loc[(trxG[\"distance\"]<dist_th) &\n",
    "                         (trxG[\"hyper_pval\"]<pval_th)]\n",
    "    # Plot\n",
    "    \n",
    "    ## Ajust fontsizes\n",
    "    mpl.rcParams['font.family'] = 'Avenir'\n",
    "    SMALL_SIZE = 18\n",
    "    MEDIUM_SIZE = 20\n",
    "    BIGGER_SIZE = 25\n",
    "\n",
    "    plt.rc('font', size=18)          # controls default text sizes\n",
    "    plt.rc('axes', titlesize=MEDIUM_SIZE)     # fontsize of the axes title\n",
    "    plt.rc('axes', labelsize=MEDIUM_SIZE)    # fontsize of the x and y labels\n",
    "    plt.rc('xtick', labelsize=SMALL_SIZE)    # fontsize of the tick labels\n",
    "    plt.rc('ytick', labelsize=SMALL_SIZE)    # fontsize of the tick labels\n",
    "    plt.rc('legend', fontsize=SMALL_SIZE)    # legend fontsize\n",
    "    plt.rc('figure', titlesize=BIGGER_SIZE)  # fontsize of the figure title\n",
    "    \n",
    "    fig, (ax1,ax2) = plt.subplots(1,2, figsize=(20,12))\n",
    "        \n",
    "    ## Plotting loop\n",
    "    for sign_dataset, name in zip([sign_PcG, sign_trxG], [\"PcG\", \"trxG\"]):\n",
    "        \n",
    "        ### Dataset selection\n",
    "        if name == \"PcG\": \n",
    "            ax = ax1\n",
    "            sign_other = PcG.loc[sign_trxG.index,:]\n",
    "            isinother = sign_PcG.index.isin(sign_other.index)\n",
    "            common = sign_PcG[isinother]\n",
    "            group = sign_PcG[~isinother]\n",
    "            other = sign_other.drop(index = common.index)\n",
    "            col = \"tab:red\"\n",
    "            other_col = \"tab:green\"\n",
    "            \n",
    "        elif name == \"trxG\":\n",
    "            ax = ax2\n",
    "            sign_other = trxG.loc[sign_PcG.index,:]\n",
    "            isinother = sign_trxG.index.isin(sign_other.index)\n",
    "            common = sign_trxG[isinother]\n",
    "            group = sign_trxG[~isinother]\n",
    "            other = sign_other.drop(index = common.index)\n",
    "            col = \"tab:green\"\n",
    "            other_col = \"tab:red\"\n",
    "   \n",
    "        ### Plotting  \n",
    "        ax.set_title(name, fontweight = \"bold\", fontsize = 25)      \n",
    "        \n",
    "        sns.scatterplot(x = group[\"distance\"],\n",
    "                y = group[\"hyper_pval\"],\n",
    "                color = col, alpha = 0.5, ax = ax, s=150)\n",
    "        \n",
    "\n",
    "        sns.scatterplot(x = other[\"distance\"],\n",
    "                y = other[\"hyper_pval\"],\n",
    "                color = other_col, alpha = 0.5, ax = ax, s=150)\n",
    "           \n",
    "            \n",
    "        sns.scatterplot(x = common[\"distance\"],\n",
    "                y = common[\"hyper_pval\"],\n",
    "                color = \"tab:blue\", alpha = 0.5, ax = ax, s=150)\n",
    "                        \n",
    "        ### Aesthetic adjustment\n",
    "        ### lines\n",
    "        ax.vlines(dist_th,0,pval_th, color = \"red\")\n",
    "        ax.hlines(pval_th,-1,dist_th, color = \"red\")\n",
    "        \n",
    "        ### scale\n",
    "        ax.set_xscale(\"symlog\")\n",
    "        ax.set_yscale(\"log\")\n",
    "        \n",
    "        ### Limits\n",
    "        ax.set_xlim(-1,10**(5))\n",
    "        ax.set_ylim(10**(-4),3)\n",
    "        \n",
    "        ### Labels\n",
    "        ax.set_xlabel(\"Distance to closest PRE\")\n",
    "        ax1.set_ylabel(\"Enrichment p-value\")\n",
    "        ax2.set_ylabel(\"\")\n",
    "      \n",
    "        # miRNA name addition\n",
    "        Plot_names(group, ax)\n",
    "        Plot_names(common, ax)\n",
    "        Plot_names(other, ax)\n",
    "        \n",
    "        \n",
    "    sns.set_style(\"ticks\")\n",
    "    plt.tight_layout()\n",
    "    plt.savefig(\"plots/figure_pvalue_distances.png\", dpi = 200, transparent = True)\n",
    "    plt.show()\n",
    "    \n",
    "# Plotting function calling\n",
    "Plot_significative(plots_PcG, plots_trxG, log_scale=False)"
   ]
  },
  {
   "cell_type": "markdown",
   "metadata": {},
   "source": [
    "### Generation of Table 3 and Supplementary Table X"
   ]
  },
  {
   "cell_type": "code",
   "execution_count": null,
   "metadata": {
    "ExecuteTime": {
     "end_time": "2020-06-25T15:34:04.364708Z",
     "start_time": "2020-06-25T15:33:56.815801Z"
    }
   },
   "outputs": [],
   "source": [
    "\n",
    "def Summary_table_creator(PcG, trxG, genesets_info, CWCS_matrix, trxG_core = False, dist_th = 5000, pval_th = 0.01):\n",
    "    \"\"\"\n",
    "    \"\"\"\n",
    "    gene_sets, PcG_subset, trxG_subset, trxGcore_subset = genesets_info\n",
    "    best_PcG = PcG[(PcG.distance < dist_th)&(PcG.hyper_pval < pval_th)]\n",
    "    best_trxG = trxG[(trxG.distance < dist_th)&(trxG.hyper_pval < pval_th)]\n",
    "\n",
    "    sign_hairpins = pd.concat([best_PcG.h_name, best_trxG.h_name]).drop_duplicates().values\n",
    "    target_table = pd.DataFrame(index = PcG.index)\n",
    "    target_table.sort_index(inplace = True)\n",
    "    \n",
    "    for hairpin in sign_hairpins:\n",
    "        PcG_entries = PcG.loc[PcG.h_name == hairpin,:]\n",
    "        trxG_entries = trxG.loc[trxG.h_name == hairpin,:]\n",
    "        \n",
    "        # general\n",
    "        target_table.loc[PcG_entries.index.values, \"Hairpin\"] = PcG_entries.loc[:,\"h_name\"]\n",
    "        target_table.loc[PcG_entries.index.values, \"Distance_PRE\"] = PcG_entries.loc[:,\"distance\"]\n",
    "        target_table.loc[PcG_entries.index.values, \"PRE\"] = PcG_entries.loc[:,\"PRE\"]\n",
    "        target_table.loc[PcG_entries.index.values, \"score_kf19\"] = PcG_entries.loc[:,\"score_kf19\"]\n",
    "        \n",
    "        #pvalues\n",
    "        target_table.loc[PcG_entries.index.values, \"PcG_OR\"] = PcG_entries[\"OR\"]\n",
    "        target_table.loc[PcG_entries.index.values, \"PcG_pval\"] = PcG_entries[\"hyper_pval\"]\n",
    "        target_table.loc[trxG_entries.index.values, \"trxG_OR\"] = trxG_entries[\"OR\"]\n",
    "        target_table.loc[trxG_entries.index.values, \"trxG_pval\"] = trxG_entries[\"hyper_pval\"]\n",
    "\n",
    "        if isinstance(trxG_core, bool): \n",
    "            pass\n",
    "        else:\n",
    "            trxG_core_entries = trxG_core.loc[trxG_core.h_name == hairpin,:]\n",
    "            target_table.loc[trxG_core_entries.index.values, \"trxG_core_pval\"] = trxG_core_entries[\"hyper_pval\"]\n",
    "\n",
    "\n",
    "        \n",
    "        #proteins and  scores\n",
    "        for mature in PcG_entries.index:\n",
    "            ## get gene_IDS, and select PcG/trxG\n",
    "            present_IDs = CWCS_matrix[mature].dropna()\n",
    "            PcG_IDs = present_IDs.loc[present_IDs.index.isin(gene_sets[\"PcG\"])]\n",
    "            trxG_IDs = present_IDs.loc[present_IDs.index.isin(gene_sets[\"trxG\"])]\n",
    "            \n",
    "            ## get info of PcG/trxG IDs\n",
    "            PcG_info = PcG_subset.loc[PcG_subset[\"ID\"].isin(PcG_IDs.index),[\"ID\", \"Name\", \"Complex\"]]\n",
    "            trxG_info = trxG_subset.loc[trxG_subset[\"ID\"].isin(trxG_IDs.index),[\"ID\", \"Name\", \"Complex\"]]\n",
    "\n",
    "            PcG_info = PcG_info.join(PcG_IDs, on=\"ID\")\n",
    "            trxG_info = trxG_info.join(trxG_IDs, on=\"ID\")\n",
    "            \n",
    "            ## Use info for puting score and complexes\n",
    "            PcG_complex = \", \".join(PcG_info[\"Complex\"].drop_duplicates())\n",
    "            trxG_complex = \", \".join(trxG_info[\"Complex\"].drop_duplicates())\n",
    "\n",
    "            PcG_genescores = [(e[0] + \" [\" + str(format(e[1], '.3f')) + \"]\")\n",
    "                              for e in PcG_info[[\"Name\", mature]].drop_duplicates().values]\n",
    "\n",
    "            trxG_genescores = [(e[0] + \" [\" + str(format(e[1], '.3f')) + \"]\")\n",
    "                          for e in trxG_info[[\"Name\", mature]].drop_duplicates().values]\n",
    "\n",
    "            ## add to table\n",
    "            target_table.loc[mature, \"PcG_complex\"] = PcG_complex\n",
    "            target_table.loc[mature, \"PcG_genes\"] = \" ,\\n \".join(PcG_genescores)\n",
    "            target_table.loc[mature, \"trxG_complex\"] = trxG_complex\n",
    "            target_table.loc[mature, \"trxG_genes\"] = \" ,\\n \".join(trxG_genescores)\n",
    "\n",
    "    return target_table.dropna(how = \"all\").fillna(\"\")"
   ]
  },
  {
   "cell_type": "code",
   "execution_count": null,
   "metadata": {},
   "outputs": [],
   "source": [
    "# Table 2\n",
    "summary_table_circuits = Summary_table_creator(integrated_PcG, integrated_trxG,\n",
    "                                    genesets_info= [gene_sets, PcG_subset, trxG_subset, trxGcore_subset],\n",
    "                                    CWCS_matrix = CWCS_matrix)\n",
    "\n",
    "summary_table_circuits.to_csv(\"output_files/summary_table_circuits.tsv\", sep = \"\\t\")\n",
    "display(summary_table_circuits)"
   ]
  },
  {
   "cell_type": "code",
   "execution_count": null,
   "metadata": {},
   "outputs": [],
   "source": [
    "# Supplementary Table 1\n",
    "summary_table_complete = Summary_table_creator(integrated_PcG, integrated_trxG, trxG_core = False,\n",
    "                                    genesets_info= [gene_sets, PcG_subset, trxG_subset, trxGcore_subset],\n",
    "                                    CWCS_matrix = CWCS_matrix, dist_th = 10**10, pval_th = 1)\n",
    "\n",
    "summary_table_complete.to_csv(\"output_files/summary_table_complete.tsv\", sep = \"\\t\")\n",
    "display(summary_table_complete)"
   ]
  }
 ],
 "metadata": {
  "@webio": {
   "lastCommId": null,
   "lastKernelId": null
  },
  "kernelspec": {
   "display_name": "Python 3",
   "language": "python",
   "name": "python3"
  },
  "language_info": {
   "codemirror_mode": {
    "name": "ipython",
    "version": 3
   },
   "file_extension": ".py",
   "mimetype": "text/x-python",
   "name": "python",
   "nbconvert_exporter": "python",
   "pygments_lexer": "ipython3",
   "version": "3.8.8"
  },
  "toc": {
   "base_numbering": 1,
   "nav_menu": {},
   "number_sections": true,
   "sideBar": true,
   "skip_h1_title": true,
   "title_cell": "Table of Contents",
   "title_sidebar": "Contents",
   "toc_cell": true,
   "toc_position": {},
   "toc_section_display": true,
   "toc_window_display": true
  },
  "toc-autonumbering": true,
  "toc-showcode": false,
  "toc-showmarkdowntxt": false,
  "toc-showtags": false,
  "varInspector": {
   "cols": {
    "lenName": 16,
    "lenType": 16,
    "lenVar": 40
   },
   "kernels_config": {
    "python": {
     "delete_cmd_postfix": "",
     "delete_cmd_prefix": "del ",
     "library": "var_list.py",
     "varRefreshCmd": "print(var_dic_list())"
    },
    "r": {
     "delete_cmd_postfix": ") ",
     "delete_cmd_prefix": "rm(",
     "library": "var_list.r",
     "varRefreshCmd": "cat(var_dic_list()) "
    }
   },
   "types_to_exclude": [
    "module",
    "function",
    "builtin_function_or_method",
    "instance",
    "_Feature"
   ],
   "window_display": false
  }
 },
 "nbformat": 4,
 "nbformat_minor": 4
}
